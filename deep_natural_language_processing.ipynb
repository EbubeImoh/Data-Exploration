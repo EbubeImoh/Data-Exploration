{
 "cells": [
  {
   "cell_type": "code",
   "execution_count": null,
   "metadata": {},
   "outputs": [],
   "source": [
    "# Importing the custom chunker and extractor\n",
    "from chunker import PennTreebackChunker\n",
    "from extractor import SOPExtractor"
   ]
  },
  {
   "cell_type": "code",
   "execution_count": null,
   "metadata": {},
   "outputs": [],
   "source": [
    "# Initialize chunker\n",
    "chunker = PennTreebackChunker()\n",
    "extractor = SOPExtractor(chunker)"
   ]
  },
  {
   "cell_type": "code",
   "execution_count": null,
   "metadata": {},
   "outputs": [],
   "source": [
    "# Function to extract triples\n",
    "def extract(sentence):\n",
    "    sentence = sentence if sentence[-1] == '.' else sentence + '.'\n",
    "    global extractor\n",
    "    sop_triplet = extractor.extract(sentence)\n",
    "    return sop_triplet"
   ]
  },
  {
   "cell_type": "code",
   "execution_count": null,
   "metadata": {},
   "outputs": [],
   "source": [
    "# Sample sentences\n",
    "sentences = [\n",
    "    'The quick brown fox jumps over the lazy dog.',\n",
    "    'A rare black squirrel has become a regular visitor to a suburban garden.',\n",
    "    'The driver did not change the flat tire.',\n",
    "    'The driver crashed the bike white bumper.'\n",
    "]"
   ]
  },
  {
   "cell_type": "code",
   "execution_count": null,
   "metadata": {},
   "outputs": [],
   "source": [
    "# Loop over sentences and extract triples\n",
    "for sentence in sentences:\n",
    "    sop_triplet = extract(sentence)\n",
    "    if sop_triplet:  # Ensure sop_triplet is not None\n",
    "        print(sop_triplet.subject + ':' + sop_triplet.predicate + ':' + sop_triplet.object)"
   ]
  },
  {
   "cell_type": "code",
   "execution_count": null,
   "metadata": {},
   "outputs": [],
   "source": []
  }
 ],
 "metadata": {
  "language_info": {
   "name": "python"
  }
 },
 "nbformat": 4,
 "nbformat_minor": 2
}
