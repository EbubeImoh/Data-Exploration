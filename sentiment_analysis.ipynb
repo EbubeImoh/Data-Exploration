{
 "cells": [
  {
   "cell_type": "code",
   "execution_count": null,
   "metadata": {},
   "outputs": [],
   "source": [
    "import pandas as pd\n",
    "import matplotlib.pyplot as plt\n",
    "from nltk.sentiment.vader import SentimentIntensityAnalyzer"
   ]
  },
  {
   "cell_type": "code",
   "execution_count": null,
   "metadata": {},
   "outputs": [],
   "source": [
    "# Read the data\n",
    "data = pd.read_csv('customer_review.csv')"
   ]
  },
  {
   "cell_type": "code",
   "execution_count": null,
   "metadata": {},
   "outputs": [],
   "source": [
    "# Initialize the VADER sentiment analyzer\n",
    "SIA = SentimentIntensityAnalyzer()"
   ]
  },
  {
   "cell_type": "code",
   "execution_count": null,
   "metadata": {},
   "outputs": [],
   "source": [
    "# Apply sentiment analysis and add scores to the DataFrame\n",
    "data['polarity_score'] = data['Review'].apply(lambda x: SIA.polarity_scores(x)['compound'])\n",
    "data['neutral_score'] = data['Review'].apply(lambda x: SIA.polarity_scores(x)['neu'])\n",
    "data['negative_score'] = data['Review'].apply(lambda x: SIA.polarity_scores(x)['neg'])\n",
    "data['positive_score'] = data['Review'].apply(lambda x: SIA.polarity_scores(x)['pos'])"
   ]
  },
  {
   "cell_type": "code",
   "execution_count": null,
   "metadata": {},
   "outputs": [],
   "source": [
    "# Assign sentiment based on polarity score\n",
    "data['sentiment'] = ''\n",
    "data.loc[data.polarity_score > 0, 'sentiment'] = 'POSITIVE'\n",
    "data.loc[data.polarity_score == 0, 'sentiment'] = 'NEUTRAL'\n",
    "data.loc[data.polarity_score < 0, 'sentiment'] = 'NEGATIVE'"
   ]
  },
  {
   "cell_type": "code",
   "execution_count": null,
   "metadata": {},
   "outputs": [],
   "source": [
    "# Display the first few rows of the DataFrame\n",
    "print(data.head())"
   ]
  },
  {
   "cell_type": "code",
   "execution_count": null,
   "metadata": {},
   "outputs": [],
   "source": [
    "# Plot the sentiment distribution\n",
    "data.sentiment.value_counts().plot(kind='bar', title=\"Sentiment Analysis\")\n",
    "plt.show()"
   ]
  }
 ],
 "metadata": {
  "language_info": {
   "name": "python"
  }
 },
 "nbformat": 4,
 "nbformat_minor": 2
}
