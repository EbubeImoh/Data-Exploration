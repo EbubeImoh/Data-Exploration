{
 "cells": [
  {
   "cell_type": "markdown",
   "metadata": {},
   "source": [
    "### k-means Clustering on SVD Dataset"
   ]
  },
  {
   "cell_type": "code",
   "execution_count": null,
   "metadata": {},
   "outputs": [],
   "source": [
    "from sklearn.cluster import KMeans\n",
    "from sklearn.decomposition import TruncatedSVD  # For dimensionality reduction, if needed\n",
    "from sklearn.feature_extraction.text import TfidfVectorizer"
   ]
  },
  {
   "cell_type": "code",
   "execution_count": null,
   "metadata": {},
   "outputs": [],
   "source": [
    "# Define and fit the KMeans model\n",
    "km = KMeans(n_clusters=3, init='k-means++', max_iter=100, n_init=1)\n",
    "# Uncomment and configure MiniBatchKMeans if working with very large datasets\n",
    "# km = MiniBatchKMeans(n_clusters=3, init='k-means++', n_init=1, init_size=1000, batch_size=1000)\n",
    "print(\"Clustering sparse data with %s\" % km)\n",
    "km.fit(X)"
   ]
  },
  {
   "cell_type": "code",
   "execution_count": null,
   "metadata": {},
   "outputs": [],
   "source": [
    "# Optional: Dimensionality reduction using SVD (if applied)\n",
    "# svd = TruncatedSVD(n_components=100)  # Example, adjust as needed\n",
    "# original_space_centroids = svd.inverse_transform(km.cluster_centers_)\n",
    "# Use this line if you are using SVD\n",
    "# order_centroids = original_space_centroids.argsort()[:, ::-1]\n",
    "# Otherwise, use the following line\n",
    "order_centroids = km.cluster_centers_.argsort()[:, ::-1]"
   ]
  },
  {
   "cell_type": "code",
   "execution_count": null,
   "metadata": {},
   "outputs": [],
   "source": [
    "# Get feature names\n",
    "terms = vectorizer.get_feature_names_out()"
   ]
  },
  {
   "cell_type": "code",
   "execution_count": null,
   "metadata": {},
   "outputs": [],
   "source": [
    "# Print top terms per cluster\n",
    "print(\"Top terms per cluster:\")\n",
    "for i in range(3):\n",
    "    print(f\"Cluster {i}: \", end='')\n",
    "    for ind in order_centroids[i, :10]:\n",
    "        print(f' {terms[ind]}', end='')\n",
    "    print()"
   ]
  },
  {
   "cell_type": "markdown",
   "metadata": {},
   "source": [
    "### Hierarchical Clustering on SVD Dataset"
   ]
  },
  {
   "cell_type": "code",
   "execution_count": null,
   "metadata": {},
   "outputs": [],
   "source": [
    "import numpy as np\n",
    "import matplotlib.pyplot as plt\n",
    "from sklearn.metrics.pairwise import cosine_similarity\n",
    "from scipy.cluster.hierarchy import ward, dendrogram\n",
    "from scipy.spatial.distance import squareform"
   ]
  },
  {
   "cell_type": "code",
   "execution_count": null,
   "metadata": {},
   "outputs": [],
   "source": [
    "# Compute the distance matrix from cosine similarity\n",
    "dist = 1 - cosine_similarity(X)"
   ]
  },
  {
   "cell_type": "code",
   "execution_count": null,
   "metadata": {},
   "outputs": [],
   "source": [
    "# Convert the distance matrix to a condensed format\n",
    "dist = squareform(dist)"
   ]
  },
  {
   "cell_type": "code",
   "execution_count": null,
   "metadata": {},
   "outputs": [],
   "source": [
    "# Perform hierarchical clustering using the Ward method\n",
    "linkage_matrix = ward(dist)"
   ]
  },
  {
   "cell_type": "code",
   "execution_count": null,
   "metadata": {},
   "outputs": [],
   "source": [
    "# Plot the dendrogram\n",
    "fig, ax = plt.subplots(figsize=(10, 8))  # Set figure size\n",
    "dendrogram(linkage_matrix, orientation='right', ax=ax)\n",
    "plt.title('Hierarchical Clustering Dendrogram')\n",
    "plt.xlabel('Distance')\n",
    "plt.ylabel('Sample index')\n",
    "plt.tight_layout()  # Adjust layout\n",
    "plt.show()"
   ]
  }
 ],
 "metadata": {
  "language_info": {
   "name": "python"
  }
 },
 "nbformat": 4,
 "nbformat_minor": 2
}
