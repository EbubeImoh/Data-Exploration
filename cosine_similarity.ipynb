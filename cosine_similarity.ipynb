{
 "cells": [
  {
   "cell_type": "code",
   "execution_count": 1,
   "metadata": {},
   "outputs": [],
   "source": [
    "from sklearn.metrics.pairwise import cosine_similarity\n",
    "import pandas as pd"
   ]
  },
  {
   "cell_type": "code",
   "execution_count": 2,
   "metadata": {},
   "outputs": [],
   "source": [
    "# Assuming df contains the document vectors\n",
    "# Replace 'Doc_1.txt', 'Doc_2.txt', 'Doc_3.txt' with actual column names\n"
   ]
  },
  {
   "cell_type": "code",
   "execution_count": 3,
   "metadata": {},
   "outputs": [],
   "source": [
    "# Example DataFrame (replace with actual document vectors)\n",
    "df = pd.DataFrame({\n",
    "    'Doc_1.txt': [1, 0, 1, 0],  # Example vectors\n",
    "    'Doc_2.txt': [0, 1, 0, 1],\n",
    "    'Doc_3.txt': [1, 1, 0, 0]\n",
    "}).T  # Transpose to have documents as rows"
   ]
  },
  {
   "cell_type": "code",
   "execution_count": 4,
   "metadata": {},
   "outputs": [
    {
     "name": "stdout",
     "output_type": "stream",
     "text": [
      "Similarity b/w doc 1 & 2:  0.0\n",
      "Similarity b/w doc 1 & 3:  0.4999999999999999\n",
      "Similarity b/w doc 2 & 3:  0.4999999999999999\n"
     ]
    }
   ],
   "source": [
    "# Compute cosine similarities\n",
    "print(\"Similarity b/w doc 1 & 2: \", cosine_similarity([df.loc['Doc_1.txt']],\n",
    "                                                      [df.loc['Doc_2.txt']])[0, 0])\n",
    "print(\"Similarity b/w doc 1 & 3: \", cosine_similarity([df.loc['Doc_1.txt']],\n",
    "                                                      [df.loc['Doc_3.txt']])[0, 0])\n",
    "print(\"Similarity b/w doc 2 & 3: \", cosine_similarity([df.loc['Doc_2.txt']],\n",
    "                                                      [df.loc['Doc_3.txt']])[0, 0])"
   ]
  },
  {
   "cell_type": "code",
   "execution_count": null,
   "metadata": {},
   "outputs": [],
   "source": []
  }
 ],
 "metadata": {
  "kernelspec": {
   "display_name": "base",
   "language": "python",
   "name": "python3"
  },
  "language_info": {
   "codemirror_mode": {
    "name": "ipython",
    "version": 3
   },
   "file_extension": ".py",
   "mimetype": "text/x-python",
   "name": "python",
   "nbconvert_exporter": "python",
   "pygments_lexer": "ipython3",
   "version": "3.12.4"
  }
 },
 "nbformat": 4,
 "nbformat_minor": 2
}
